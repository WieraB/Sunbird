{
 "cells": [
  {
   "cell_type": "markdown",
   "id": "f2c81c7b-4a8c-4484-8523-b1f162ab42c2",
   "metadata": {},
   "source": [
    "# Setup Nvidia Modulus on Sunbird\n",
    "\n",
    "As of 11 Apr 2022, the link to Modulus tutorial is bit secret. Here is the link: https://docs.nvidia.com/deeplearning/modulus/index.html\n",
    "\n"
   ]
  }
 ],
 "metadata": {
  "kernelspec": {
   "display_name": "Python 3 (ipykernel)",
   "language": "python",
   "name": "python3"
  },
  "language_info": {
   "codemirror_mode": {
    "name": "ipython",
    "version": 3
   },
   "file_extension": ".py",
   "mimetype": "text/x-python",
   "name": "python",
   "nbconvert_exporter": "python",
   "pygments_lexer": "ipython3",
   "version": "3.9.12"
  }
 },
 "nbformat": 4,
 "nbformat_minor": 5
}
